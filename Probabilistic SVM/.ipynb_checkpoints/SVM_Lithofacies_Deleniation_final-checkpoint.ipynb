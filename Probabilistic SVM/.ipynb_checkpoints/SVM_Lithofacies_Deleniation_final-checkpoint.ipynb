{
 "cells": [
  {
   "cell_type": "code",
   "execution_count": 1,
   "metadata": {},
   "outputs": [],
   "source": [
    "import numpy as np\n",
    "import pandas as pd\n",
    "import matplotlib\n",
    "from pandas import read_csv\n",
    "from copy import deepcopy\n",
    "from sklearn.utils import resample\n",
    "from sklearn.tree import DecisionTreeClassifier\n",
    "from sklearn.metrics import accuracy_score\n",
    "from matplotlib import pyplot as plt\n",
    "from scipy import stats,interpolate, optimize\n",
    "import numpy.random as rng\n",
    "import sklearn\n",
    "from sklearn import svm\n",
    "from sklearn import preprocessing\n",
    "from sklearn import utils\n",
    "from matplotlib.pyplot import imshow\n",
    "from scipy import ndimage\n",
    "import scipy.stats\n",
    "import random\n",
    "from sklearn.neighbors import KNeighborsClassifier\n",
    "from sklearn.datasets import load_iris\n",
    "from sklearn.linear_model import LogisticRegression\n",
    "from SVM_Uts import *\n",
    "from mpl_toolkits.axes_grid1 import make_axes_locatable\n",
    "import matplotlib.patches as mpatches\n",
    "#import matplotlib.pyplot as plt"
   ]
  },
  {
   "cell_type": "code",
   "execution_count": 2,
   "metadata": {},
   "outputs": [],
   "source": [
    "#from matplotlib import rc\n",
    "#import matplotlib.font_manager\n",
    "#rc('font',**{'family':'sans-serif','sans-serif':['Helvetica']})\n",
    "## for Palatino and other serif fonts use:\n",
    "#rc('font',**{'family':'serif','serif':['Palatino']})\n",
    "#rc('text', usetex=True)"
   ]
  },
  {
   "cell_type": "markdown",
   "metadata": {},
   "source": [
    "# import data"
   ]
  },
  {
   "cell_type": "code",
   "execution_count": 3,
   "metadata": {},
   "outputs": [
    {
     "data": {
      "text/html": [
       "<div>\n",
       "<style scoped>\n",
       "    .dataframe tbody tr th:only-of-type {\n",
       "        vertical-align: middle;\n",
       "    }\n",
       "\n",
       "    .dataframe tbody tr th {\n",
       "        vertical-align: top;\n",
       "    }\n",
       "\n",
       "    .dataframe thead th {\n",
       "        text-align: right;\n",
       "    }\n",
       "</style>\n",
       "<table border=\"1\" class=\"dataframe\">\n",
       "  <thead>\n",
       "    <tr style=\"text-align: right;\">\n",
       "      <th></th>\n",
       "      <th>x_1</th>\n",
       "      <th>x_2</th>\n",
       "      <th>Y</th>\n",
       "    </tr>\n",
       "  </thead>\n",
       "  <tbody>\n",
       "    <tr>\n",
       "      <th>0</th>\n",
       "      <td>0.1</td>\n",
       "      <td>0.1</td>\n",
       "      <td>-1.6626</td>\n",
       "    </tr>\n",
       "    <tr>\n",
       "      <th>1</th>\n",
       "      <td>0.1</td>\n",
       "      <td>0.3</td>\n",
       "      <td>-1.7762</td>\n",
       "    </tr>\n",
       "    <tr>\n",
       "      <th>2</th>\n",
       "      <td>0.1</td>\n",
       "      <td>0.5</td>\n",
       "      <td>-1.8226</td>\n",
       "    </tr>\n",
       "    <tr>\n",
       "      <th>3</th>\n",
       "      <td>0.1</td>\n",
       "      <td>0.7</td>\n",
       "      <td>-1.7652</td>\n",
       "    </tr>\n",
       "    <tr>\n",
       "      <th>4</th>\n",
       "      <td>0.1</td>\n",
       "      <td>0.9</td>\n",
       "      <td>-1.5863</td>\n",
       "    </tr>\n",
       "  </tbody>\n",
       "</table>\n",
       "</div>"
      ],
      "text/plain": [
       "   x_1  x_2       Y\n",
       "0  0.1  0.1 -1.6626\n",
       "1  0.1  0.3 -1.7762\n",
       "2  0.1  0.5 -1.8226\n",
       "3  0.1  0.7 -1.7652\n",
       "4  0.1  0.9 -1.5863"
      ]
     },
     "execution_count": 3,
     "metadata": {},
     "output_type": "execute_result"
    }
   ],
   "source": [
    "data=pd.read_csv('SYNTHETIC FIELD\\\\SYNTHETIC FIELD\\\\TRS0003.txt',sep='\\s+')\n",
    "data=data.iloc[:,:3]\n",
    "data.head()"
   ]
  },
  {
   "cell_type": "markdown",
   "metadata": {},
   "source": [
    "# plot raw permeability"
   ]
  },
  {
   "cell_type": "code",
   "execution_count": 4,
   "metadata": {},
   "outputs": [
    {
     "data": {
      "image/png": "[encoded data removed]",
      "text/plain": [
       "<Figure size 288x288 with 2 Axes>"
      ]
     },
     "metadata": {
      "needs_background": "light"
     },
     "output_type": "display_data"
    }
   ],
   "source": [
    "fig, ax = plt.subplots(figsize=(4, 4))\n",
    "length=int(np.sqrt(len(data)))\n",
    "x1_grid=np.array(data['x_1']).reshape((length,length))\n",
    "x2_grid=np.array(data['x_2']).reshape((length,length))\n",
    "Y_grid=np.array(data['Y']).reshape((length,length))\n",
    "cs = plt.contourf(x1_grid, x2_grid, Y_grid)\n",
    "\n",
    "# to get rid of the ticks around the plot\n",
    "plt.tick_params(\n",
    "axis='x',          # changes apply to the x-axis\n",
    "which='both',      # both major and minor ticks are affected\n",
    "bottom=False,      # ticks along the bottom edge are off\n",
    "top=False,         # ticks along the top edge are off\n",
    "labelbottom=False) # labels along the bottom edge are off\n",
    "plt.tick_params(\n",
    "axis='y',          # changes apply to the x-axis\n",
    "which='both',      # both major and minor ticks are affected\n",
    "left=False,      # ticks along the bottom edge are off\n",
    "right=False,         # ticks along the top edge are off\n",
    "labelleft=False) # labels along the bottom edge are off\n",
    "plt.xlabel('$x_1$')\n",
    "plt.ylabel('$x_2$')\n",
    "\n",
    "# this will preserve square shape of the plot when colorbar is added\n",
    "# otherwise, the plot will be slightly squashed to rectangle\n",
    "divider = make_axes_locatable(ax)\n",
    "cax = divider.append_axes(\"right\", size=\"5%\", pad=0.05)\n",
    "cbar=fig.colorbar(cs,cax=cax)\n",
    "\n",
    "#plt.ylabel('$K(\\mathbf x)$',rotation=270,labelpad=20)\n",
    "#plt.savefig('pics\\\\figure3_top.pdf', bbox_inches=\"tight\")"
   ]
  },
  {
   "cell_type": "markdown",
   "metadata": {},
   "source": [
    "## histogram of log permeability"
   ]
  },
  {
   "cell_type": "code",
   "execution_count": 5,
   "metadata": {},
   "outputs": [
    {
     "data": {
      "text/plain": [
       "Text(0, 0.5, 'counts')"
      ]
     },
     "execution_count": 5,
     "metadata": {},
     "output_type": "execute_result"
    },
    {
     "data": {
      "image/png": "[encoded data removed]",
      "text/plain": [
       "<Figure size 432x288 with 1 Axes>"
      ]
     },
     "metadata": {
      "needs_background": "light"
     },
     "output_type": "display_data"
    }
   ],
   "source": [
    "plt.hist(data['Y'])\n",
    "plt.xlabel('log(K)')\n",
    "plt.ylabel('counts')"
   ]
  },
  {
   "cell_type": "markdown",
   "metadata": {},
   "source": [
    "# plot classifed map"
   ]
  },
  {
   "cell_type": "code",
   "execution_count": 6,
   "metadata": {},
   "outputs": [],
   "source": [
    "# convert permeability to binary variable based on the permeability cut-off\n",
    "classified=np.array([ 1 if data['Y'][i] > 4 else 0 for i in range(len(data))])"
   ]
  },
  {
   "cell_type": "code",
   "execution_count": 7,
   "metadata": {},
   "outputs": [],
   "source": [
    "data['classified']=classified\n",
    "data.head()\n",
    "data_array=np.array(data)[:,[0,1,3]]\n",
    "#samples=data_array[np.random.choice(data.shape[0], size=360, replace=False), :]\n",
    "#np.savetxt(r'samples.txt', samples)"
   ]
  },
  {
   "cell_type": "code",
   "execution_count": 8,
   "metadata": {},
   "outputs": [],
   "source": [
    "#matplotlib.rcParams.update({'font.size': 10})\n",
    "#from matplotlib import rc\n",
    "#import matplotlib.font_manager\n",
    "#rc('font',**{'family':'sans-serif','sans-serif':['Helvetica']})\n",
    "## for Palatino and other serif fonts use:\n",
    "#rc('font',**{'family':'serif','serif':['Palatino']})"
   ]
  },
  {
   "cell_type": "code",
   "execution_count": 9,
   "metadata": {},
   "outputs": [
    {
     "data": {
      "image/png": "[encoded data removed]",
      "text/plain": [
       "<Figure size 288x288 with 1 Axes>"
      ]
     },
     "metadata": {
      "needs_background": "light"
     },
     "output_type": "display_data"
    }
   ],
   "source": [
    "classified_grid=classified.reshape((length,length))\n",
    "plt.figure(figsize=(4, 4))\n",
    "cs=plt.contourf(x1_grid, x2_grid, classified_grid)\n",
    "#plt.colorbar(cs)\n",
    "#plt.axis('off')\n",
    "\n",
    "\n",
    "#yellow_patch = mpatches.Patch(color='yellow', label='$\\mathbf J = 1$')\n",
    "#blue_patch = mpatches.Patch(color='midnightblue', label='$\\mathbf J = -1$')\n",
    "#plt.legend(handles=[yellow_patch,blue_patch])\n",
    "#plt.axis('off')\n",
    "#plt.xlabel('$x_1$')\n",
    "#plt.ylabel('$x_2$')\n",
    "#plt.savefig('pics\\\\figure3_bottom.pdf', bbox_inches=\"tight\")"
   ]
  },
  {
   "cell_type": "markdown",
   "metadata": {},
   "source": [
    "# fit SVM and compare to kriging"
   ]
  },
  {
   "cell_type": "code",
   "execution_count": 10,
   "metadata": {},
   "outputs": [],
   "source": [
    "# generate samples\n",
    "sample_size=50\n",
    "num_samples=20\n",
    "generate_samples(data_array,num_samples,sample_size)"
   ]
  },
  {
   "cell_type": "code",
   "execution_count": 11,
   "metadata": {},
   "outputs": [],
   "source": [
    "# run kriging in SGEMs first before running this cell\n",
    "# manipulate the kriging file from running SGEMs (modifying the header)\n",
    "for file_ind in range(5):\n",
    "    with open(\"SGEMS_output\\\\sample\"+str(file_ind)+\"_SGEMS\", \"r\") as f:\n",
    "        lines = f.readlines()\n",
    "    with open(\"SGEMS_output\\\\sample\"+str(file_ind)+\"_SGEMS.txt\", \"w\") as f:\n",
    "        f.write('krig \\n')\n",
    "        for line in lines[3:]:\n",
    "            f.write(line)"
   ]
  },
  {
   "cell_type": "code",
   "execution_count": 12,
   "metadata": {},
   "outputs": [],
   "source": [
    "def generate_average_bucket_all(sample_ind,ground_truth,pi_score,n_bucket):\n",
    "    # check confidence with the actual count\n",
    "    p=sample_ind\n",
    "    average_bucket=[]\n",
    "    average_bucket_truth=[]\n",
    "    count_bin=[]\n",
    "    for j in range(n_bucket):\n",
    "        b=np.array([ground_truth[i] for i in range(len(pi_score)) \\\n",
    "                    if (pi_score[i] > (j/n_bucket) and pi_score[i] < ((j+1.0)/n_bucket))])\n",
    "        average_bucket.append(np.sum(b)/len(b))\n",
    "        count_bin=np.append(count_bin,len(b))\n",
    "    center_bucket=np.linspace(0,1,n_bucket+1)+(1/(2*n_bucket))\n",
    "    center_bucket=center_bucket[:-1]\n",
    "    #average_bucket_all[:,p]=average_bucket\n",
    "    return average_bucket,center_bucket,count_bin\n",
    "\n",
    "def plot_bin_graph(average_bucket_all,center_bucket):    \n",
    "    average_bucket_mean=np.mean(average_bucket_all,axis=1)\n",
    "    average_bucket_sd=np.std(average_bucket_all,axis=1)\n",
    "    plt.figure()\n",
    "    plt.title('sample_size'+str(sample_size)+' gamma = '+str(gamma)+' C = '+str(c))\n",
    "    plt.xlabel('calculated probability of classified as 1')\n",
    "    plt.ylabel('real probability of classified as 1')\n",
    "    #plt.scatter(center_bucket,average_bucket)\n",
    "    #plt.scatter(average_bucket_truth,average_bucket)\n",
    "    plt.plot([0,1],[0,1])\n",
    "    #plt.plot(center_bucket,average_bucket)\n",
    "    plt.errorbar(center_bucket,average_bucket_mean,average_bucket_sd, uplims=True, lolims=True) \n",
    "    return\n",
    " \n",
    "# plot boundary separating two facies of sample points\n",
    "def plotContour(samples,Z_grid):\n",
    "    # plot contour\n",
    "    x=samples[:,0]\n",
    "    y=samples[:,1]\n",
    "    cls=samples[:,-1]\n",
    "    plt.figure(figsize=(4, 4))\n",
    "    ax = fig.add_subplot()\n",
    "    plt.scatter(x[cls==0],y[cls==0],c=np.array([0.267004, 0.004874, 0.329415, 1.0]),marker='s')\n",
    "    plt.scatter(x[cls==1],y[cls==1],c=np.array([0.993248, 0.906157, 0.143936, 1.0]),marker='s')\n",
    "    #plt.title('sample_size'+str(sample_size)+' gamma = '+str(gamma)+' C = '+str(c))\n",
    "    cs=plt.contour(x1_grid, x2_grid, Z_grid, levels=0, colors='black')\n",
    "    # to get rid of the ticks around the plot\n",
    "    plt.tick_params(\n",
    "    axis='x',          # changes apply to the x-axis\n",
    "    which='both',      # both major and minor ticks are affected\n",
    "    bottom=False,      # ticks along the bottom edge are off\n",
    "    top=False,         # ticks along the top edge are off\n",
    "    labelbottom=False) # labels along the bottom edge are off\n",
    "    plt.tick_params(\n",
    "    axis='y',          # changes apply to the x-axis\n",
    "    which='both',      # both major and minor ticks are affected\n",
    "    left=False,      # ticks along the bottom edge are off\n",
    "    right=False,         # ticks along the top edge are off\n",
    "    labelleft=False) # labels along the bottom edge are off   \n",
    "    plt.xlabel('$x_1$')\n",
    "    plt.ylabel('$x_2$')\n",
    "    # this file name indicates what are the chosen hyperparameters used to generate such figure\n",
    "    #plt.savefig('pics\\\\contour'+str(sample_ind)+'_gamma_'+str(gamma)+'_'+str(sample_size)+'_C_'+str(c)+'.png')\n",
    "    return\n",
    "\n",
    "# generate a confidence map\n",
    "# such map tells what is a probability of each point in the map being classified as 1\n",
    "def confidenceMap(samples_all):\n",
    "    # logistic regression\n",
    "    out = model_truth.decision_function(samples_all[:,:-1])\n",
    "    target=samples_all[:,-1]\n",
    "    out=np.array(out).reshape(-1,1)\n",
    "    clf=LogisticRegression(random_state=0, solver='lbfgs')\n",
    "    clf.fit(out, target)\n",
    "    prob=clf.predict_proba(np.array(Z).reshape(-1,1))\n",
    "    pi_vec=prob[:,1]\n",
    "    pi_grid=pi_vec.reshape((length,length))\n",
    "    confidence_map=pi_grid[::,::].T\n",
    "    return confidence_map,out,target,pi_vec\n",
    "\n",
    "# plot a confidence map generated by plotContour\n",
    "def plotConfidenceMap(confidenceMap,title):\n",
    "    fig1, ax1 = plt.subplots(figsize=(4, 4))\n",
    "    im1=ax1.pcolor(confidenceMap, vmin=0, vmax=1)\n",
    "    # to get rid of the ticks around the plot\n",
    "    plt.tick_params(\n",
    "    axis='x',          # changes apply to the x-axis\n",
    "    which='both',      # both major and minor ticks are affected\n",
    "    bottom=False,      # ticks along the bottom edge are off\n",
    "    top=False,         # ticks along the top edge are off\n",
    "    labelbottom=False) # labels along the bottom edge are off\n",
    "    plt.tick_params(\n",
    "    axis='y',          # changes apply to the x-axis\n",
    "    which='both',      # both major and minor ticks are affected\n",
    "    left=False,      # ticks along the bottom edge are off\n",
    "    right=False,         # ticks along the top edge are off\n",
    "    labelleft=False) # labels along the bottom edge are off\n",
    "    plt.xlabel('$x_1$')\n",
    "    plt.ylabel('$x_2$')\n",
    "    plt.title(title)\n",
    "    # this will preserve square shape of the plot when colorbar is added\n",
    "    # otherwise, the plot will be slightly squashed to rectangle\n",
    "    divider1 = make_axes_locatable(ax1)\n",
    "    cax1 = divider1.append_axes(\"right\", size=\"5%\", pad=0.05)\n",
    "    cbar1=fig.colorbar(im1,cax=cax1)\n",
    "    #plt.ylabel('$\\mathbb{P}[\\mathbf x \\in M_1]$',rotation=270,labelpad=20)"
   ]
  },
  {
   "cell_type": "markdown",
   "metadata": {},
   "source": [
    "# Deterministic SVM"
   ]
  },
  {
   "cell_type": "code",
   "execution_count": 13,
   "metadata": {},
   "outputs": [],
   "source": [
    "#sample_size=1000\n",
    "sample_sizes=[20,50,80,100,150,200,360,500,1000,1800]\n",
    "realizations=4\n",
    "MC_realizations=1\n",
    "n_bucket=10\n",
    "colors_vec=['black','blue','red','green','violet','yellow']\n",
    "average_bucket_all=np.zeros((n_bucket,realizations))\n",
    "plot_inx=1\n",
    "c=1\n",
    "gammas=[0.1,1,2.5,10]\n",
    "l=60\n",
    "p_cutoffs=[0.75]#,0.95]\n",
    "accuracy_matrix=np.zeros((l,l,MC_realizations))\n",
    "accuracy_matrix_avg=np.sum(accuracy_matrix,axis=2)/MC_realizations\n",
    "norm_err=np.zeros(MC_realizations)"
   ]
  },
  {
   "cell_type": "markdown",
   "metadata": {},
   "source": [
    "plot relative error as a function of sampling density"
   ]
  },
  {
   "cell_type": "code",
   "execution_count": 15,
   "metadata": {
    "scrolled": true
   },
   "outputs": [
    {
     "data": {
      "image/png": "[encoded data removed]",
      "text/plain": [
       "<Figure size 432x288 with 1 Axes>"
      ]
     },
     "metadata": {
      "needs_background": "light"
     },
     "output_type": "display_data"
    }
   ],
   "source": [
    "linestyles = ['-', '--', '-.', ':']\n",
    "linestyles_idx=0\n",
    "confidence_map_avg=0\n",
    "for p_cutoff in p_cutoffs:\n",
    "    uncertain_vec=[]\n",
    "    for gamma in gammas:\n",
    "        err_vec=[]\n",
    "        for sample_size in sample_sizes: \n",
    "            sum_uncertain=0\n",
    "            sum_err=0\n",
    "            for sample_ind in range(realizations):\n",
    "                plot_inx=plot_inx+1\n",
    "                error_realizations_vec=[]\n",
    "                # fit SVM model on selected points\n",
    "                model_truth,samples = fitSVM(data,sample_ind,sample_size,c,gamma)\n",
    "                # raw SVM output\n",
    "                Z = model_truth.decision_function(data_array[:,:-1])\n",
    "                Z_grid = Z.reshape((length,length))\n",
    "                # find the fraction of grid that prediction is uncertain\n",
    "                uncertain=np.sum(np.logical_and(Z>(1-p_cutoff),Z<p_cutoff))\n",
    "                sum_uncertain=sum_uncertain+uncertain \n",
    "                # find the fraction of grid that prediction does not agree with ground truth\n",
    "                pred=(Z>0)\n",
    "                ground_truth=data_array[:,-1]\n",
    "                err=np.sum(pred!=ground_truth)\n",
    "                sum_err=sum_err+err\n",
    "\n",
    "            uncertain_vec.append(sum_uncertain/(60*60*realizations))\n",
    "            err_vec.append(sum_err/(60*60*realizations))\n",
    "        \n",
    "        # plot relative error VS sampling density (as shown below)\n",
    "        plt.figure(1000)\n",
    "        plt.plot(np.array(sample_sizes)/3600,err_vec,label='$\\ell$ = '+str(1/gamma),linestyle=linestyles[linestyles_idx], linewidth=3)\n",
    "        plt.xlabel('Sampling density, $N/N_{tot}$')\n",
    "        plt.ylabel('Relative error, $N_{mis}/N_{tot}$')\n",
    "        plt.legend(frameon=False)\n",
    "        \n",
    "        # plot uncertain points percentage VS sampling density \n",
    "        # choose only 1 combination of hyperparameters and two p_cutoffs when run this\n",
    "        #plt.figure(2000)\n",
    "        #plt.plot(np.array(sample_sizes)/3600,uncertain_vec,label='P = '+str(p_cutoff),linestyle=linestyles[linestyles_idx], linewidth=3)\n",
    "        #plt.xlabel('Sampling density, $N/N_{tot}$')\n",
    "        #plt.ylabel('Uncertain pixels, $N_{unc}/N_{tot}$')\n",
    "        #plt.legend(frameon=False)\n",
    "        linestyles_idx=linestyles_idx+1\n",
    "#plt.savefig('pics\\\\figure9_2.pdf', bbox_inches=\"tight\")"
   ]
  },
  {
   "cell_type": "markdown",
   "metadata": {},
   "source": [
    "# Probabilistic SVM"
   ]
  },
  {
   "cell_type": "code",
   "execution_count": null,
   "metadata": {},
   "outputs": [],
   "source": [
    "sample_sizes=[50]\n",
    "realizations=4\n",
    "MC_realizations=1\n",
    "n_bucket=10\n",
    "colors_vec=['black','blue','red','green','violet','yellow']\n",
    "average_bucket_all=np.zeros((n_bucket,realizations))\n",
    "plot_inx=1\n",
    "c=1\n",
    "gammas=[0.1]\n",
    "l=60\n",
    "p_cutoffs=[0.75]\n",
    "accuracy_matrix=np.zeros((l,l,MC_realizations))\n",
    "accuracy_matrix_avg=np.sum(accuracy_matrix,axis=2)/MC_realizations\n",
    "norm_err=np.zeros(MC_realizations)"
   ]
  },
  {
   "cell_type": "code",
   "execution_count": null,
   "metadata": {},
   "outputs": [],
   "source": [
    "from matplotlib import cm\n",
    "from matplotlib.colors import ListedColormap, LinearSegmentedColormap\n",
    "viridis = cm.get_cmap('viridis', 12)\n",
    "print(viridis)\n",
    "print(viridis(0.0))\n",
    "print(viridis(1.0))"
   ]
  },
  {
   "cell_type": "code",
   "execution_count": null,
   "metadata": {},
   "outputs": [],
   "source": [
    "confidence_map_avg=0\n",
    "for p_cutoff in p_cutoffs:\n",
    "    uncertain_vec=[]\n",
    "    for gamma in gammas:\n",
    "        err_vec=[]\n",
    "        for sample_size in sample_sizes: \n",
    "            sum_uncertain=0\n",
    "            sum_err=0\n",
    "            for sample_ind in range(realizations):\n",
    "                plot_inx=plot_inx+1\n",
    "                error_realizations_vec=[]\n",
    "                # fit SVM model on selected points\n",
    "                model_truth,samples = fitSVM(data,sample_ind,sample_size,c,gamma)\n",
    "                # raw SVM output\n",
    "                Z = model_truth.decision_function(data_array[:,:-1])\n",
    "                Z_grid = Z.reshape((length,length))\n",
    "                # plot to see the output of deterministic SVM\n",
    "                plotContour(samples,Z_grid)\n",
    "                confidence_map,out,target,pi_score=confidenceMap(samples)\n",
    "                #plt.savefig('pics\\\\figure4_2.pdf', bbox_inches=\"tight\")\n",
    "                \n",
    "                #read sgems output (if not available need to run SGEMs first)\n",
    "                krig_arr=pd.read_csv('SGEMS_output\\\\sample'+str(sample_ind)+'_SGEMS.txt',sep='\\s+')\n",
    "                #krig_arr=pd.read_csv('SGEMS_output\\\\sample00'+'_SGEMS.txt',sep='\\s+')\n",
    "                krig=np.array(krig_arr).reshape((60,60))\n",
    "                krig_bin=np.array(krig_arr.T).reshape((60,60)).T.reshape((-1,1))\n",
    "\n",
    "                # plot confidence map of the SVM and kriging output\n",
    "                plotConfidenceMap(confidence_map,'pSVM')\n",
    "                plt.savefig('pics\\\\figure7_top.pdf', bbox_inches=\"tight\")\n",
    "                plotConfidenceMap(krig,'IK')\n",
    "                plt.savefig('pics\\\\figure7_bottom.pdf', bbox_inches=\"tight\")\n",
    "                                \n",
    "                # compare the performance of kringing and SVM \n",
    "                # the result is highly dependent of the chosen SVM hyperparameters\n",
    "                ground_truth=data_array[:,-1]\n",
    "                average_bucket_svm,center_bucket_svm,count_bin_svm=generate_average_bucket_all(sample_ind,ground_truth,pi_score,n_bucket)\n",
    "                average_bucket_krig,center_bucket_krig,count_bin_krig=generate_average_bucket_all(sample_ind,ground_truth,krig_bin,n_bucket)\n",
    "\n",
    "                plt.figure()\n",
    "                #plt.title('sample_size'+str(sample_size)+' gamma = '+str(gamma)+' C = '+str(c))\n",
    "                #plt.xlabel('calculated probability of classified as 1')\n",
    "                #plt.ylabel('real probability of classified as 1')\n",
    "                #plt.xlabel('Calculated Probability, $P_{SVM}$')\n",
    "                #plt.ylabel('True Probability, $P_{truth}$')\n",
    "                plt.plot([0,1],[0,1])\n",
    "                plt.plot(center_bucket_svm,average_bucket_svm,label='SVM',linestyle='-', linewidth=3)\n",
    "                plt.plot(center_bucket_krig,average_bucket_krig,label='Indicator \\n kriging',linestyle='--', linewidth=3)\n",
    "                plt.legend(frameon=False) \n",
    "                #plt.savefig('pics\\\\figure8_2.pdf', bbox_inches=\"tight\")\n"
   ]
  },
  {
   "cell_type": "markdown",
   "metadata": {},
   "source": [
    "histogram of the raw output, ideally want to see some misclassification"
   ]
  },
  {
   "cell_type": "code",
   "execution_count": null,
   "metadata": {},
   "outputs": [],
   "source": [
    "fontsize=15"
   ]
  },
  {
   "cell_type": "code",
   "execution_count": null,
   "metadata": {},
   "outputs": [],
   "source": [
    "plt.hist(out[target==1],alpha=0.6,label='J = 1')\n",
    "plt.hist(out[target==0],alpha=0.6,label='J = -1')\n",
    "#plt.xlabel('SVM output, g(x)')\n",
    "#plt.ylabel('pdf')\n",
    "plt.xlabel('SVM output, g*')\n",
    "plt.ylabel('count')\n",
    "plt.legend(frameon=False)\n",
    "plt.show()\n",
    "plt.savefig('hist_lithofacie.png')"
   ]
  },
  {
   "cell_type": "markdown",
   "metadata": {},
   "source": [
    "# equivalent to logistic regression fitting"
   ]
  },
  {
   "cell_type": "markdown",
   "metadata": {},
   "source": [
    "plot the raw output of SVM. \n",
    "In the deterministic model, if the raw SVM output of such point is >0, it will be classified as 1. Otherwise it is classified as 0. The probabilistic model tries to laverage the actual raw output of SVM as a proxy for probability of being classified as class 1 instead of just looking at the sign like the deterministic model. "
   ]
  },
  {
   "cell_type": "code",
   "execution_count": null,
   "metadata": {
    "scrolled": true
   },
   "outputs": [],
   "source": [
    "fi=out\n",
    "fig=plt.scatter(fi,target,color='black',label='datapoints')\n",
    "fi_all=np.arange(-3,3,0.1)\n",
    "plt.xlabel('SVM output, g*')\n",
    "plt.ylabel('p(J=1|G=g*)')\n",
    "\n",
    "fi=np.array(fi).reshape(-1,1)\n",
    "fi_all=np.array(fi_all).reshape(-1,1)\n",
    "clf=LogisticRegression(random_state=0,C=1e10, solver='lbfgs')\n",
    "clf.fit(fi, target)\n",
    "prob=clf.predict_proba(fi)\n",
    "prob_all=clf.predict_proba(fi_all)\n",
    "plt.scatter(fi,prob[:,1],label='logistic fit')\n",
    "plt.plot(fi_all,prob_all[:,1],linewidth=3)\n",
    "plt.legend(frameon=False)\n",
    "plt.show()"
   ]
  },
  {
   "cell_type": "markdown",
   "metadata": {},
   "source": [
    "# cross-validation"
   ]
  },
  {
   "cell_type": "code",
   "execution_count": null,
   "metadata": {},
   "outputs": [],
   "source": [
    "import numpy as np\n",
    "import matplotlib.pyplot as plt\n",
    "from matplotlib.colors import Normalize\n",
    "\n",
    "from sklearn.svm import SVC\n",
    "from sklearn.preprocessing import StandardScaler\n",
    "from sklearn.datasets import load_iris\n",
    "from sklearn.model_selection import StratifiedShuffleSplit\n",
    "from sklearn.model_selection import GridSearchCV\n",
    "\n",
    "# This functiondefines colormap\n",
    "# Utility function to move the midpoint of a colormap to be around\n",
    "# the values of interest.\n",
    "class MidpointNormalize(Normalize):\n",
    "\n",
    "    def __init__(self, vmin=None, vmax=None, midpoint=None, clip=False):\n",
    "        self.midpoint = midpoint\n",
    "        Normalize.__init__(self, vmin, vmax, clip)\n",
    "\n",
    "    def __call__(self, value, clip=None):\n",
    "        x, y = [self.vmin, self.midpoint, self.vmax], [0, 0.5, 1]\n",
    "        return np.ma.masked_array(np.interp(value, x, y))\n",
    "\n",
    "# define range of parameter for grid search\n",
    "sample_size=50\n",
    "C_min=-2\n",
    "C_max=3\n",
    "C_range = np.logspace(C_min, C_max, C_max-C_min+1)#np.logspace(-2, 10, 13)\n",
    "gamma_min=-3\n",
    "gamma_max=2\n",
    "gamma_range = np.logspace(gamma_min, gamma_max, gamma_max-gamma_min+1)#np.logspace(-9, 3, 13)\n",
    "param_grid = dict(gamma=gamma_range, C=C_range)\n",
    "\n",
    "# set up cross validation\n",
    "cv = StratifiedShuffleSplit(n_splits=5, test_size=0.2, random_state=42)\n",
    "#grid = GridSearchCV(SVC(), param_grid=param_grid, cv=cv,scoring='f1')\n",
    "grid = GridSearchCV(SVC(), param_grid=param_grid, cv=cv)\n",
    "#grid.fit(X, y)\n",
    "realizations=200\n",
    "scores_avg=np.zeros((C_max-C_min+1,gamma_max-gamma_min+1))\n",
    "gamma_all=[]\n",
    "C_all=[]\n",
    "for _ in range(realizations):\n",
    "    samples=data_array[np.random.choice(data.shape[0], size=sample_size, replace=False), :]\n",
    "    lab_enc = preprocessing.LabelEncoder()\n",
    "    encoded = lab_enc.fit_transform(samples[:,-1])\n",
    "    grid.fit(samples[:,:-1], encoded)\n",
    "    \n",
    "    print(\"The best parameters are %s with a score of %0.2f\"\n",
    "          % (grid.best_params_, grid.best_score_))\n",
    "\n",
    "    \n",
    "    gamma_all=np.append(gamma_all,grid.best_params_['gamma'])\n",
    "    C_all=np.append(C_all,grid.best_params_['C'])\n",
    "    \n",
    "    scores = grid.cv_results_['mean_test_score'].reshape(len(C_range),len(gamma_range))                                                        \n",
    "    scores_avg=scores_avg+scores\n",
    "scores_avg=scores_avg/realizations"
   ]
  },
  {
   "cell_type": "code",
   "execution_count": null,
   "metadata": {},
   "outputs": [],
   "source": [
    "plt.figure()\n",
    "#plt.imshow(scores_avg)\n",
    "ax=plt.imshow(scores_avg, interpolation='nearest', cmap=plt.cm.hot,\n",
    "           norm=MidpointNormalize(vmin=0.65, midpoint=0.75))\n",
    "plt.xlabel('$\\gamma$')\n",
    "plt.ylabel('C')\n",
    "plt.colorbar()\n",
    "#plt.xticks(np.arange(len(gamma_range)), gamma_range, rotation=45)\n",
    "#plt.yticks(np.arange(len(C_range)), C_range)\n",
    "fmt_C = ['%.0e' % i for i in C_range.tolist()]\n",
    "fmt_gamma = ['%.0e' % i for i in gamma_range.tolist()]\n",
    "plt.xticks(np.arange(len(gamma_range)), fmt_gamma, rotation=45)\n",
    "plt.yticks(np.arange(len(C_range)), fmt_C)\n",
    "plt.title('Validation accuracy')\n",
    "plt.show()\n",
    "plt.savefig('cv_heatmap.png')"
   ]
  },
  {
   "cell_type": "code",
   "execution_count": null,
   "metadata": {},
   "outputs": [],
   "source": []
  }
 ],
 "metadata": {
  "kernelspec": {
   "display_name": "Python 3",
   "language": "python",
   "name": "python3"
  },
  "language_info": {
   "codemirror_mode": {
    "name": "ipython",
    "version": 3
   },
   "file_extension": ".py",
   "mimetype": "text/x-python",
   "name": "python",
   "nbconvert_exporter": "python",
   "pygments_lexer": "ipython3",
   "version": "3.7.3"
  },
  "varInspector": {
   "cols": {
    "lenName": 16,
    "lenType": 16,
    "lenVar": 40
   },
   "kernels_config": {
    "python": {
     "delete_cmd_postfix": "",
     "delete_cmd_prefix": "del ",
     "library": "var_list.py",
     "varRefreshCmd": "print(var_dic_list())"
    },
    "r": {
     "delete_cmd_postfix": ") ",
     "delete_cmd_prefix": "rm(",
     "library": "var_list.r",
     "varRefreshCmd": "cat(var_dic_list()) "
    }
   },
   "oldHeight": 583,
   "position": {
    "height": "605px",
    "left": "1100px",
    "right": "20px",
    "top": "47px",
    "width": "548px"
   },
   "types_to_exclude": [
    "module",
    "function",
    "builtin_function_or_method",
    "instance",
    "_Feature"
   ],
   "varInspector_section_display": "block",
   "window_display": false
  }
 },
 "nbformat": 4,
 "nbformat_minor": 2
}
